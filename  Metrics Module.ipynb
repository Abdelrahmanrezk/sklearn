{
 "cells": [
  {
   "cell_type": "code",
   "execution_count": 1,
   "metadata": {},
   "outputs": [],
   "source": [
    "from sklearn.metrics import mean_absolute_error,mean_squared_error, median_absolute_error"
   ]
  },
  {
   "cell_type": "code",
   "execution_count": 2,
   "metadata": {},
   "outputs": [],
   "source": [
    "y_true = [3, 0.5, 2, 7]\n",
    "y_pred = [2.5, 0.0, 2, 8]\n"
   ]
  },
  {
   "cell_type": "code",
   "execution_count": 3,
   "metadata": {},
   "outputs": [
    {
     "data": {
      "text/plain": [
       "0.5"
      ]
     },
     "execution_count": 3,
     "metadata": {},
     "output_type": "execute_result"
    }
   ],
   "source": [
    "'''\n",
    "    3-2.5=.5 & -.5-0 = .5 & 2-2=0 & 7-8 = 1 because we get the abs value from subtraction operation\n",
    "    so .5 +.5+0+1 = 2 over number of values which 4 so 2/4 = .5\n",
    "'''\n",
    "mean_absolute_error(y_pred, y_true)"
   ]
  },
  {
   "cell_type": "code",
   "execution_count": 4,
   "metadata": {},
   "outputs": [
    {
     "data": {
      "text/plain": [
       "0.375"
      ]
     },
     "execution_count": 4,
     "metadata": {},
     "output_type": "execute_result"
    }
   ],
   "source": [
    "'''\n",
    "   the same as above but to power of 2\n",
    "   so it will be .25 + .25 + 1 = 1.2/4 \n",
    "'''\n",
    "mean_squared_error(y_pred, y_true)"
   ]
  },
  {
   "cell_type": "code",
   "execution_count": 5,
   "metadata": {},
   "outputs": [
    {
     "data": {
      "text/plain": [
       "0.5"
      ]
     },
     "execution_count": 5,
     "metadata": {},
     "output_type": "execute_result"
    }
   ],
   "source": [
    "'''\n",
    "   the same as above but will rearrange the subtraction values as median process\n",
    "   then choose the median do\n",
    "   0 .5 .5 1\n",
    "   \n",
    "'''\n",
    "median_absolute_error(y_pred, y_true)"
   ]
  },
  {
   "cell_type": "markdown",
   "metadata": {},
   "source": [
    "\n",
    "# Confusion Matrix\n",
    "# TP,TN,FP,FN\n",
    "    \n",
    "    True Positive, its about samples of your data you need to classify them. \n",
    "    And you classify them belongs to you class correctly, \n",
    "    Eg. your “hot dog” vs “not hot dog” classifier correctly classifies a “hot dog” as being a “hot dog”.\n",
    "\n",
    "    \n",
    "    True Negative : called a TN, so it's about samples of data you have \n",
    "    to classify. And you classify them as not belongs to your class correctly, \n",
    "    Eg. your “hot dog” vs “not hot dog” image classifier correctly classified \n",
    "    your image of a car as not being a “hot dog”.\n",
    "    \n",
    "    False Positive: samples of your data you need to classify them.\n",
    "    And you classify them belong your class incorrectly, \n",
    "    Eg. your “hot dog” vs “not hot dog” classifier incorrectly classifies a hamburger as being a “hot dog”.\n",
    "\n",
    "    \n",
    "    False Negative: called FN, it's about samples of your data you need to classify them.\n",
    "    And you classify them of not belongs to you class incorrectly because of they are belongs,\n",
    "    Eg. your “hot dog” vs “not hot dog” image classifier incorrectly \n",
    "    classified an image of a messed up “hot dog” as not being a “hot dog”.\n"
   ]
  },
  {
   "cell_type": "code",
   "execution_count": 6,
   "metadata": {},
   "outputs": [],
   "source": [
    "from sklearn.metrics import confusion_matrix,accuracy_score,f1_score, recall_score, precision_score"
   ]
  },
  {
   "cell_type": "code",
   "execution_count": 7,
   "metadata": {},
   "outputs": [],
   "source": [
    "y_pred = ['a','a','b','b','a','b','a','a','a','a']\n",
    "y_true = ['a','b','b','a','b','a','a','b','a','b']"
   ]
  },
  {
   "cell_type": "code",
   "execution_count": 8,
   "metadata": {},
   "outputs": [
    {
     "data": {
      "text/plain": [
       "array([[3, 4],\n",
       "       [2, 1]])"
      ]
     },
     "execution_count": 8,
     "metadata": {},
     "output_type": "execute_result"
    }
   ],
   "source": [
    "confusion_matrix(y_pred, y_true)"
   ]
  },
  {
   "cell_type": "code",
   "execution_count": 9,
   "metadata": {},
   "outputs": [
    {
     "data": {
      "text/plain": [
       "array([[1, 2, 0],\n",
       "       [2, 0, 3],\n",
       "       [1, 1, 0]])"
      ]
     },
     "execution_count": 9,
     "metadata": {},
     "output_type": "execute_result"
    }
   ],
   "source": [
    "y_pred = ['a','b','c','a','b','c','a','b','c','a']\n",
    "y_true = ['a','a','b','b','a','b','c','c','b','b']\n",
    "confusion_matrix(y_true, y_pred)"
   ]
  },
  {
   "cell_type": "code",
   "execution_count": 10,
   "metadata": {},
   "outputs": [],
   "source": [
    "y_pred = [0, 2, 1, 3,5,3]\n",
    "y_true = [0, 1, 2, 3,5,3]"
   ]
  },
  {
   "cell_type": "code",
   "execution_count": 11,
   "metadata": {},
   "outputs": [
    {
     "data": {
      "text/plain": [
       "0.6666666666666666"
      ]
     },
     "execution_count": 11,
     "metadata": {},
     "output_type": "execute_result"
    }
   ],
   "source": [
    "'''\n",
    "    its (TP+TN) / #number of samples which here is 6 examples = 4/6\n",
    "'''\n",
    "\n",
    "accuracy_score(y_pred,y_true)"
   ]
  },
  {
   "cell_type": "code",
   "execution_count": 12,
   "metadata": {},
   "outputs": [
    {
     "data": {
      "text/plain": [
       "0.3333333333333333"
      ]
     },
     "execution_count": 12,
     "metadata": {},
     "output_type": "execute_result"
    }
   ],
   "source": [
    "y_pred = [0, 2, 1, 0, 0, 1]\n",
    "y_true = [0, 1, 2, 0, 1, 2]\n",
    "f1_score(y_true, y_pred, average='micro')"
   ]
  },
  {
   "cell_type": "code",
   "execution_count": 13,
   "metadata": {},
   "outputs": [
    {
     "data": {
      "text/plain": [
       "0.3333333333333333"
      ]
     },
     "execution_count": 13,
     "metadata": {},
     "output_type": "execute_result"
    }
   ],
   "source": [
    "precision_score(y_true, y_pred, average=\"micro\")"
   ]
  },
  {
   "cell_type": "code",
   "execution_count": 14,
   "metadata": {},
   "outputs": [
    {
     "data": {
      "text/plain": [
       "0.3333333333333333"
      ]
     },
     "execution_count": 14,
     "metadata": {},
     "output_type": "execute_result"
    }
   ],
   "source": [
    "recall_score(y_true, y_pred, average='micro')"
   ]
  },
  {
   "cell_type": "code",
   "execution_count": null,
   "metadata": {},
   "outputs": [],
   "source": []
  }
 ],
 "metadata": {
  "kernelspec": {
   "display_name": "Python 3",
   "language": "python",
   "name": "python3"
  },
  "language_info": {
   "codemirror_mode": {
    "name": "ipython",
    "version": 3
   },
   "file_extension": ".py",
   "mimetype": "text/x-python",
   "name": "python",
   "nbconvert_exporter": "python",
   "pygments_lexer": "ipython3",
   "version": "3.7.4"
  }
 },
 "nbformat": 4,
 "nbformat_minor": 2
}
