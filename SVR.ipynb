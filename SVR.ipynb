{
 "cells": [
  {
   "cell_type": "code",
   "execution_count": 1,
   "metadata": {},
   "outputs": [],
   "source": [
    "from sklearn.datasets import load_boston\n",
    "from sklearn.model_selection import train_test_split\n",
    "from sklearn.svm import SVR\n",
    "from sklearn.metrics import mean_absolute_error\n",
    "from sklearn.metrics import mean_squared_error\n",
    "from sklearn.metrics import median_absolute_error\n",
    "import numpy as np\n",
    "import pandas as pd"
   ]
  },
  {
   "cell_type": "code",
   "execution_count": 2,
   "metadata": {},
   "outputs": [],
   "source": [
    "df = load_boston()"
   ]
  },
  {
   "cell_type": "code",
   "execution_count": 3,
   "metadata": {},
   "outputs": [
    {
     "data": {
      "text/plain": [
       "(506, 13)"
      ]
     },
     "execution_count": 3,
     "metadata": {},
     "output_type": "execute_result"
    }
   ],
   "source": [
    "X = df.data\n",
    "X.shape"
   ]
  },
  {
   "cell_type": "code",
   "execution_count": 4,
   "metadata": {},
   "outputs": [
    {
     "data": {
      "text/plain": [
       "(506,)"
      ]
     },
     "execution_count": 4,
     "metadata": {},
     "output_type": "execute_result"
    }
   ],
   "source": [
    "y = df.target\n",
    "y.shape"
   ]
  },
  {
   "cell_type": "code",
   "execution_count": 5,
   "metadata": {},
   "outputs": [],
   "source": [
    "X_train, X_test, y_train, y_test = train_test_split(X, y, test_size=.2, random_state=4)"
   ]
  },
  {
   "cell_type": "code",
   "execution_count": 6,
   "metadata": {},
   "outputs": [],
   "source": [
    "SVRModel = SVR(C = 1.0 ,epsilon=0.1,kernel = 'rbf') "
   ]
  },
  {
   "cell_type": "code",
   "execution_count": 7,
   "metadata": {},
   "outputs": [
    {
     "name": "stderr",
     "output_type": "stream",
     "text": [
      "/home/abdelrahman/anaconda3/lib/python3.7/site-packages/sklearn/svm/base.py:193: FutureWarning: The default value of gamma will change from 'auto' to 'scale' in version 0.22 to account better for unscaled features. Set gamma explicitly to 'auto' or 'scale' to avoid this warning.\n",
      "  \"avoid this warning.\", FutureWarning)\n"
     ]
    },
    {
     "data": {
      "text/plain": [
       "SVR(C=1.0, cache_size=200, coef0=0.0, degree=3, epsilon=0.1,\n",
       "    gamma='auto_deprecated', kernel='rbf', max_iter=-1, shrinking=True,\n",
       "    tol=0.001, verbose=False)"
      ]
     },
     "execution_count": 7,
     "metadata": {},
     "output_type": "execute_result"
    }
   ],
   "source": [
    "SVRModel.fit(X_train, y_train)"
   ]
  },
  {
   "cell_type": "code",
   "execution_count": 8,
   "metadata": {},
   "outputs": [],
   "source": [
    "y_pred = SVRModel.predict(X_test)"
   ]
  },
  {
   "cell_type": "code",
   "execution_count": 9,
   "metadata": {},
   "outputs": [
    {
     "name": "stdout",
     "output_type": "stream",
     "text": [
      "The first 5  predictive values are \n",
      " [21.26172451 21.2617299  21.24107275 21.26471681 21.29901204]\n"
     ]
    }
   ],
   "source": [
    "print(\"The first 5  predictive values are \\n\", y_pred[:5])"
   ]
  },
  {
   "cell_type": "code",
   "execution_count": 10,
   "metadata": {},
   "outputs": [
    {
     "name": "stdout",
     "output_type": "stream",
     "text": [
      "The first 5  actuall values are \n",
      " [16.5 24.8 17.4 19.3 37.6]\n"
     ]
    }
   ],
   "source": [
    "print(\"The first 5  actuall values are \\n\", y_test[:5])"
   ]
  },
  {
   "cell_type": "code",
   "execution_count": 11,
   "metadata": {},
   "outputs": [
    {
     "name": "stdout",
     "output_type": "stream",
     "text": [
      "SVRModel Train Score is :  0.1548755640115046\n",
      "SVRModel Test Score is :  -0.030111930218872592\n"
     ]
    }
   ],
   "source": [
    "print('SVRModel Train Score is : ' , SVRModel.score(X_train, y_train))\n",
    "print('SVRModel Test Score is : ' , SVRModel.score(X_test, y_test))"
   ]
  },
  {
   "cell_type": "code",
   "execution_count": 12,
   "metadata": {},
   "outputs": [
    {
     "name": "stdout",
     "output_type": "stream",
     "text": [
      "Mean Absolute Error Value is :  6.800314166792825\n"
     ]
    }
   ],
   "source": [
    "MAEValue = mean_absolute_error(y_test, y_pred, multioutput='uniform_average') # it can be raw_values\n",
    "print('Mean Absolute Error Value is : ', MAEValue)"
   ]
  },
  {
   "cell_type": "code",
   "execution_count": 13,
   "metadata": {},
   "outputs": [
    {
     "name": "stdout",
     "output_type": "stream",
     "text": [
      "Mean Squared Error Value is :  95.68629817810827\n"
     ]
    }
   ],
   "source": [
    "MSEValue = mean_squared_error(y_test, y_pred, multioutput='uniform_average') # it can be raw_values\n",
    "print('Mean Squared Error Value is : ', MSEValue)"
   ]
  },
  {
   "cell_type": "code",
   "execution_count": 14,
   "metadata": {},
   "outputs": [
    {
     "name": "stdout",
     "output_type": "stream",
     "text": [
      "Median Squared Error Value is :  4.195001070706588\n"
     ]
    }
   ],
   "source": [
    "MdSEValue = median_absolute_error(y_test, y_pred)\n",
    "print('Median Squared Error Value is : ', MdSEValue )"
   ]
  },
  {
   "cell_type": "code",
   "execution_count": 15,
   "metadata": {},
   "outputs": [],
   "source": [
    "df = pd.read_csv('Earthquakes.csv')"
   ]
  },
  {
   "cell_type": "code",
   "execution_count": 16,
   "metadata": {},
   "outputs": [
    {
     "data": {
      "text/html": [
       "<div>\n",
       "<style scoped>\n",
       "    .dataframe tbody tr th:only-of-type {\n",
       "        vertical-align: middle;\n",
       "    }\n",
       "\n",
       "    .dataframe tbody tr th {\n",
       "        vertical-align: top;\n",
       "    }\n",
       "\n",
       "    .dataframe thead th {\n",
       "        text-align: right;\n",
       "    }\n",
       "</style>\n",
       "<table border=\"1\" class=\"dataframe\">\n",
       "  <thead>\n",
       "    <tr style=\"text-align: right;\">\n",
       "      <th></th>\n",
       "      <th>latitude</th>\n",
       "      <th>longitude</th>\n",
       "      <th>depth</th>\n",
       "      <th>mag</th>\n",
       "      <th>gap</th>\n",
       "      <th>dmin</th>\n",
       "      <th>rms</th>\n",
       "      <th>horizontalError</th>\n",
       "      <th>depthError</th>\n",
       "      <th>magError</th>\n",
       "      <th>meter</th>\n",
       "    </tr>\n",
       "  </thead>\n",
       "  <tbody>\n",
       "    <tr>\n",
       "      <th>count</th>\n",
       "      <td>1369.000000</td>\n",
       "      <td>1369.000000</td>\n",
       "      <td>1369.000000</td>\n",
       "      <td>1369.000000</td>\n",
       "      <td>1369.000000</td>\n",
       "      <td>1369.000000</td>\n",
       "      <td>1369.000000</td>\n",
       "      <td>1369.000000</td>\n",
       "      <td>1369.000000</td>\n",
       "      <td>1368.000000</td>\n",
       "      <td>1368.000000</td>\n",
       "    </tr>\n",
       "    <tr>\n",
       "      <th>mean</th>\n",
       "      <td>-1.117302</td>\n",
       "      <td>119.207969</td>\n",
       "      <td>102.069072</td>\n",
       "      <td>4.496275</td>\n",
       "      <td>100.971512</td>\n",
       "      <td>2.326909</td>\n",
       "      <td>0.852768</td>\n",
       "      <td>8.227684</td>\n",
       "      <td>6.678305</td>\n",
       "      <td>0.121450</td>\n",
       "      <td>30.986111</td>\n",
       "    </tr>\n",
       "    <tr>\n",
       "      <th>std</th>\n",
       "      <td>5.605702</td>\n",
       "      <td>10.028394</td>\n",
       "      <td>129.415379</td>\n",
       "      <td>0.377192</td>\n",
       "      <td>44.781584</td>\n",
       "      <td>2.286374</td>\n",
       "      <td>0.260124</td>\n",
       "      <td>2.622920</td>\n",
       "      <td>3.829167</td>\n",
       "      <td>0.050303</td>\n",
       "      <td>30.446167</td>\n",
       "    </tr>\n",
       "    <tr>\n",
       "      <th>min</th>\n",
       "      <td>-11.762200</td>\n",
       "      <td>95.113500</td>\n",
       "      <td>4.000000</td>\n",
       "      <td>3.900000</td>\n",
       "      <td>13.000000</td>\n",
       "      <td>0.008000</td>\n",
       "      <td>0.130000</td>\n",
       "      <td>2.400000</td>\n",
       "      <td>0.600000</td>\n",
       "      <td>0.034000</td>\n",
       "      <td>1.000000</td>\n",
       "    </tr>\n",
       "    <tr>\n",
       "      <th>25%</th>\n",
       "      <td>-7.026200</td>\n",
       "      <td>112.938000</td>\n",
       "      <td>24.610000</td>\n",
       "      <td>4.200000</td>\n",
       "      <td>71.000000</td>\n",
       "      <td>1.310000</td>\n",
       "      <td>0.670000</td>\n",
       "      <td>6.500000</td>\n",
       "      <td>3.600000</td>\n",
       "      <td>0.085000</td>\n",
       "      <td>13.000000</td>\n",
       "    </tr>\n",
       "    <tr>\n",
       "      <th>50%</th>\n",
       "      <td>0.268400</td>\n",
       "      <td>123.957300</td>\n",
       "      <td>53.860000</td>\n",
       "      <td>4.400000</td>\n",
       "      <td>95.000000</td>\n",
       "      <td>2.063000</td>\n",
       "      <td>0.830000</td>\n",
       "      <td>7.900000</td>\n",
       "      <td>7.000000</td>\n",
       "      <td>0.116000</td>\n",
       "      <td>20.000000</td>\n",
       "    </tr>\n",
       "    <tr>\n",
       "      <th>75%</th>\n",
       "      <td>3.541300</td>\n",
       "      <td>126.788100</td>\n",
       "      <td>121.110000</td>\n",
       "      <td>4.600000</td>\n",
       "      <td>128.000000</td>\n",
       "      <td>2.928000</td>\n",
       "      <td>1.030000</td>\n",
       "      <td>9.500000</td>\n",
       "      <td>8.900000</td>\n",
       "      <td>0.148000</td>\n",
       "      <td>37.000000</td>\n",
       "    </tr>\n",
       "    <tr>\n",
       "      <th>max</th>\n",
       "      <td>9.268100</td>\n",
       "      <td>128.317100</td>\n",
       "      <td>621.700000</td>\n",
       "      <td>6.900000</td>\n",
       "      <td>324.000000</td>\n",
       "      <td>56.265000</td>\n",
       "      <td>1.640000</td>\n",
       "      <td>29.300000</td>\n",
       "      <td>33.700000</td>\n",
       "      <td>0.532000</td>\n",
       "      <td>269.000000</td>\n",
       "    </tr>\n",
       "  </tbody>\n",
       "</table>\n",
       "</div>"
      ],
      "text/plain": [
       "          latitude    longitude        depth          mag          gap  \\\n",
       "count  1369.000000  1369.000000  1369.000000  1369.000000  1369.000000   \n",
       "mean     -1.117302   119.207969   102.069072     4.496275   100.971512   \n",
       "std       5.605702    10.028394   129.415379     0.377192    44.781584   \n",
       "min     -11.762200    95.113500     4.000000     3.900000    13.000000   \n",
       "25%      -7.026200   112.938000    24.610000     4.200000    71.000000   \n",
       "50%       0.268400   123.957300    53.860000     4.400000    95.000000   \n",
       "75%       3.541300   126.788100   121.110000     4.600000   128.000000   \n",
       "max       9.268100   128.317100   621.700000     6.900000   324.000000   \n",
       "\n",
       "              dmin          rms  horizontalError   depthError     magError  \\\n",
       "count  1369.000000  1369.000000      1369.000000  1369.000000  1368.000000   \n",
       "mean      2.326909     0.852768         8.227684     6.678305     0.121450   \n",
       "std       2.286374     0.260124         2.622920     3.829167     0.050303   \n",
       "min       0.008000     0.130000         2.400000     0.600000     0.034000   \n",
       "25%       1.310000     0.670000         6.500000     3.600000     0.085000   \n",
       "50%       2.063000     0.830000         7.900000     7.000000     0.116000   \n",
       "75%       2.928000     1.030000         9.500000     8.900000     0.148000   \n",
       "max      56.265000     1.640000        29.300000    33.700000     0.532000   \n",
       "\n",
       "             meter  \n",
       "count  1368.000000  \n",
       "mean     30.986111  \n",
       "std      30.446167  \n",
       "min       1.000000  \n",
       "25%      13.000000  \n",
       "50%      20.000000  \n",
       "75%      37.000000  \n",
       "max     269.000000  "
      ]
     },
     "execution_count": 16,
     "metadata": {},
     "output_type": "execute_result"
    }
   ],
   "source": [
    "df.describe()"
   ]
  },
  {
   "cell_type": "code",
   "execution_count": 17,
   "metadata": {},
   "outputs": [],
   "source": [
    "from sklearn.impute import SimpleImputer\n",
    "from sklearn.preprocessing import StandardScaler"
   ]
  },
  {
   "cell_type": "code",
   "execution_count": 18,
   "metadata": {},
   "outputs": [],
   "source": [
    "\n",
    "imp = SimpleImputer(missing_values=np.nan, strategy='mean')\n",
    "imp = imp.fit(df)\n",
    "df = imp.transform(df)"
   ]
  },
  {
   "cell_type": "code",
   "execution_count": 19,
   "metadata": {},
   "outputs": [
    {
     "data": {
      "text/plain": [
       "(1369, 10)"
      ]
     },
     "execution_count": 19,
     "metadata": {},
     "output_type": "execute_result"
    }
   ],
   "source": [
    "X = df[:, :-1]\n",
    "X.shape"
   ]
  },
  {
   "cell_type": "code",
   "execution_count": 20,
   "metadata": {},
   "outputs": [],
   "source": [
    "y = df[:,-1]"
   ]
  },
  {
   "cell_type": "code",
   "execution_count": 21,
   "metadata": {},
   "outputs": [
    {
     "data": {
      "text/plain": [
       "(1369,)"
      ]
     },
     "execution_count": 21,
     "metadata": {},
     "output_type": "execute_result"
    }
   ],
   "source": [
    "y.shape"
   ]
  },
  {
   "cell_type": "code",
   "execution_count": 22,
   "metadata": {},
   "outputs": [],
   "source": [
    "SCLAR = StandardScaler()"
   ]
  },
  {
   "cell_type": "code",
   "execution_count": 23,
   "metadata": {},
   "outputs": [],
   "source": [
    "X = SCLAR.fit_transform(X)"
   ]
  },
  {
   "cell_type": "code",
   "execution_count": 24,
   "metadata": {},
   "outputs": [],
   "source": [
    "clf = SVR(kernel = 'linear')"
   ]
  },
  {
   "cell_type": "code",
   "execution_count": 25,
   "metadata": {},
   "outputs": [
    {
     "data": {
      "text/plain": [
       "SVR(C=1.0, cache_size=200, coef0=0.0, degree=3, epsilon=0.1,\n",
       "    gamma='auto_deprecated', kernel='linear', max_iter=-1, shrinking=True,\n",
       "    tol=0.001, verbose=False)"
      ]
     },
     "execution_count": 25,
     "metadata": {},
     "output_type": "execute_result"
    }
   ],
   "source": [
    "clf.fit(X, y)"
   ]
  },
  {
   "cell_type": "code",
   "execution_count": 26,
   "metadata": {},
   "outputs": [
    {
     "data": {
      "text/plain": [
       "array([133.24880322])"
      ]
     },
     "execution_count": 26,
     "metadata": {},
     "output_type": "execute_result"
    }
   ],
   "source": [
    "y_pred = clf.predict([[90,12,12,-5,54,0.3,0.9,3.5,16.2,10]])\n",
    "abs(y_pred)"
   ]
  },
  {
   "cell_type": "code",
   "execution_count": 27,
   "metadata": {},
   "outputs": [],
   "source": [
    "df = pd.read_csv('houses.csv')"
   ]
  },
  {
   "cell_type": "code",
   "execution_count": 28,
   "metadata": {},
   "outputs": [
    {
     "data": {
      "text/html": [
       "<div>\n",
       "<style scoped>\n",
       "    .dataframe tbody tr th:only-of-type {\n",
       "        vertical-align: middle;\n",
       "    }\n",
       "\n",
       "    .dataframe tbody tr th {\n",
       "        vertical-align: top;\n",
       "    }\n",
       "\n",
       "    .dataframe thead th {\n",
       "        text-align: right;\n",
       "    }\n",
       "</style>\n",
       "<table border=\"1\" class=\"dataframe\">\n",
       "  <thead>\n",
       "    <tr style=\"text-align: right;\">\n",
       "      <th></th>\n",
       "      <th>bedrooms</th>\n",
       "      <th>bathrooms</th>\n",
       "      <th>sqft_living</th>\n",
       "      <th>sqft_lot</th>\n",
       "      <th>floors</th>\n",
       "      <th>waterfront</th>\n",
       "      <th>view</th>\n",
       "      <th>condition</th>\n",
       "      <th>grade</th>\n",
       "      <th>sqft_above</th>\n",
       "      <th>sqft_basement</th>\n",
       "      <th>yr_built</th>\n",
       "      <th>yr_renovated</th>\n",
       "      <th>zipcode</th>\n",
       "      <th>lat</th>\n",
       "      <th>long</th>\n",
       "      <th>sqft_living15</th>\n",
       "      <th>price</th>\n",
       "    </tr>\n",
       "  </thead>\n",
       "  <tbody>\n",
       "    <tr>\n",
       "      <th>0</th>\n",
       "      <td>3.0</td>\n",
       "      <td>1.00</td>\n",
       "      <td>1180.0</td>\n",
       "      <td>5650.0</td>\n",
       "      <td>1.0</td>\n",
       "      <td>0.0</td>\n",
       "      <td>0.0</td>\n",
       "      <td>3.0</td>\n",
       "      <td>7.0</td>\n",
       "      <td>1180.0</td>\n",
       "      <td>0.0</td>\n",
       "      <td>1955.0</td>\n",
       "      <td>0.0</td>\n",
       "      <td>98178.0</td>\n",
       "      <td>47.5112</td>\n",
       "      <td>-122.257</td>\n",
       "      <td>1340.0</td>\n",
       "      <td>22.19</td>\n",
       "    </tr>\n",
       "    <tr>\n",
       "      <th>1</th>\n",
       "      <td>3.0</td>\n",
       "      <td>2.25</td>\n",
       "      <td>2570.0</td>\n",
       "      <td>7242.0</td>\n",
       "      <td>2.0</td>\n",
       "      <td>0.0</td>\n",
       "      <td>0.0</td>\n",
       "      <td>3.0</td>\n",
       "      <td>7.0</td>\n",
       "      <td>2170.0</td>\n",
       "      <td>400.0</td>\n",
       "      <td>1951.0</td>\n",
       "      <td>1991.0</td>\n",
       "      <td>98125.0</td>\n",
       "      <td>47.7210</td>\n",
       "      <td>-122.319</td>\n",
       "      <td>1690.0</td>\n",
       "      <td>53.80</td>\n",
       "    </tr>\n",
       "    <tr>\n",
       "      <th>2</th>\n",
       "      <td>2.0</td>\n",
       "      <td>1.00</td>\n",
       "      <td>770.0</td>\n",
       "      <td>10000.0</td>\n",
       "      <td>1.0</td>\n",
       "      <td>0.0</td>\n",
       "      <td>0.0</td>\n",
       "      <td>3.0</td>\n",
       "      <td>6.0</td>\n",
       "      <td>770.0</td>\n",
       "      <td>0.0</td>\n",
       "      <td>1933.0</td>\n",
       "      <td>0.0</td>\n",
       "      <td>98028.0</td>\n",
       "      <td>47.7379</td>\n",
       "      <td>-122.233</td>\n",
       "      <td>2720.0</td>\n",
       "      <td>18.00</td>\n",
       "    </tr>\n",
       "    <tr>\n",
       "      <th>3</th>\n",
       "      <td>4.0</td>\n",
       "      <td>3.00</td>\n",
       "      <td>1960.0</td>\n",
       "      <td>5000.0</td>\n",
       "      <td>1.0</td>\n",
       "      <td>0.0</td>\n",
       "      <td>0.0</td>\n",
       "      <td>5.0</td>\n",
       "      <td>7.0</td>\n",
       "      <td>1050.0</td>\n",
       "      <td>910.0</td>\n",
       "      <td>1965.0</td>\n",
       "      <td>0.0</td>\n",
       "      <td>98136.0</td>\n",
       "      <td>47.5208</td>\n",
       "      <td>-122.393</td>\n",
       "      <td>1360.0</td>\n",
       "      <td>60.40</td>\n",
       "    </tr>\n",
       "    <tr>\n",
       "      <th>4</th>\n",
       "      <td>3.0</td>\n",
       "      <td>2.00</td>\n",
       "      <td>1680.0</td>\n",
       "      <td>8080.0</td>\n",
       "      <td>1.0</td>\n",
       "      <td>0.0</td>\n",
       "      <td>0.0</td>\n",
       "      <td>3.0</td>\n",
       "      <td>8.0</td>\n",
       "      <td>1680.0</td>\n",
       "      <td>0.0</td>\n",
       "      <td>1987.0</td>\n",
       "      <td>0.0</td>\n",
       "      <td>98074.0</td>\n",
       "      <td>47.6168</td>\n",
       "      <td>-122.045</td>\n",
       "      <td>1800.0</td>\n",
       "      <td>51.00</td>\n",
       "    </tr>\n",
       "  </tbody>\n",
       "</table>\n",
       "</div>"
      ],
      "text/plain": [
       "   bedrooms  bathrooms  sqft_living  sqft_lot  floors  waterfront  view  \\\n",
       "0       3.0       1.00       1180.0    5650.0     1.0         0.0   0.0   \n",
       "1       3.0       2.25       2570.0    7242.0     2.0         0.0   0.0   \n",
       "2       2.0       1.00        770.0   10000.0     1.0         0.0   0.0   \n",
       "3       4.0       3.00       1960.0    5000.0     1.0         0.0   0.0   \n",
       "4       3.0       2.00       1680.0    8080.0     1.0         0.0   0.0   \n",
       "\n",
       "   condition  grade  sqft_above  sqft_basement  yr_built  yr_renovated  \\\n",
       "0        3.0    7.0      1180.0            0.0    1955.0           0.0   \n",
       "1        3.0    7.0      2170.0          400.0    1951.0        1991.0   \n",
       "2        3.0    6.0       770.0            0.0    1933.0           0.0   \n",
       "3        5.0    7.0      1050.0          910.0    1965.0           0.0   \n",
       "4        3.0    8.0      1680.0            0.0    1987.0           0.0   \n",
       "\n",
       "   zipcode      lat     long  sqft_living15  price  \n",
       "0  98178.0  47.5112 -122.257         1340.0  22.19  \n",
       "1  98125.0  47.7210 -122.319         1690.0  53.80  \n",
       "2  98028.0  47.7379 -122.233         2720.0  18.00  \n",
       "3  98136.0  47.5208 -122.393         1360.0  60.40  \n",
       "4  98074.0  47.6168 -122.045         1800.0  51.00  "
      ]
     },
     "execution_count": 28,
     "metadata": {},
     "output_type": "execute_result"
    }
   ],
   "source": [
    "df.head()"
   ]
  },
  {
   "cell_type": "code",
   "execution_count": 29,
   "metadata": {},
   "outputs": [
    {
     "data": {
      "text/html": [
       "<div>\n",
       "<style scoped>\n",
       "    .dataframe tbody tr th:only-of-type {\n",
       "        vertical-align: middle;\n",
       "    }\n",
       "\n",
       "    .dataframe tbody tr th {\n",
       "        vertical-align: top;\n",
       "    }\n",
       "\n",
       "    .dataframe thead th {\n",
       "        text-align: right;\n",
       "    }\n",
       "</style>\n",
       "<table border=\"1\" class=\"dataframe\">\n",
       "  <thead>\n",
       "    <tr style=\"text-align: right;\">\n",
       "      <th></th>\n",
       "      <th>bedrooms</th>\n",
       "      <th>bathrooms</th>\n",
       "      <th>sqft_living</th>\n",
       "      <th>sqft_lot</th>\n",
       "      <th>floors</th>\n",
       "      <th>waterfront</th>\n",
       "      <th>view</th>\n",
       "      <th>condition</th>\n",
       "      <th>grade</th>\n",
       "      <th>sqft_above</th>\n",
       "      <th>sqft_basement</th>\n",
       "      <th>yr_built</th>\n",
       "      <th>yr_renovated</th>\n",
       "      <th>zipcode</th>\n",
       "      <th>lat</th>\n",
       "      <th>long</th>\n",
       "      <th>sqft_living15</th>\n",
       "      <th>price</th>\n",
       "    </tr>\n",
       "  </thead>\n",
       "  <tbody>\n",
       "    <tr>\n",
       "      <th>count</th>\n",
       "      <td>999.000000</td>\n",
       "      <td>999.000000</td>\n",
       "      <td>999.000000</td>\n",
       "      <td>999.000000</td>\n",
       "      <td>999.000000</td>\n",
       "      <td>999.000000</td>\n",
       "      <td>999.000000</td>\n",
       "      <td>999.000000</td>\n",
       "      <td>999.000000</td>\n",
       "      <td>999.000000</td>\n",
       "      <td>999.000000</td>\n",
       "      <td>999.000000</td>\n",
       "      <td>999.000000</td>\n",
       "      <td>999.000000</td>\n",
       "      <td>999.000000</td>\n",
       "      <td>999.000000</td>\n",
       "      <td>999.000000</td>\n",
       "      <td>999.000000</td>\n",
       "    </tr>\n",
       "    <tr>\n",
       "      <th>mean</th>\n",
       "      <td>3.349349</td>\n",
       "      <td>2.045796</td>\n",
       "      <td>2051.397397</td>\n",
       "      <td>14707.242242</td>\n",
       "      <td>1.446947</td>\n",
       "      <td>0.008008</td>\n",
       "      <td>0.237237</td>\n",
       "      <td>3.464464</td>\n",
       "      <td>7.605606</td>\n",
       "      <td>1750.233233</td>\n",
       "      <td>301.164164</td>\n",
       "      <td>1969.030030</td>\n",
       "      <td>81.830831</td>\n",
       "      <td>98074.441441</td>\n",
       "      <td>47.549720</td>\n",
       "      <td>-122.207406</td>\n",
       "      <td>1986.813814</td>\n",
       "      <td>52.071452</td>\n",
       "    </tr>\n",
       "    <tr>\n",
       "      <th>std</th>\n",
       "      <td>0.852367</td>\n",
       "      <td>0.721983</td>\n",
       "      <td>888.351113</td>\n",
       "      <td>28975.077254</td>\n",
       "      <td>0.517420</td>\n",
       "      <td>0.089173</td>\n",
       "      <td>0.765472</td>\n",
       "      <td>0.689521</td>\n",
       "      <td>1.160734</td>\n",
       "      <td>790.466905</td>\n",
       "      <td>451.023402</td>\n",
       "      <td>28.198607</td>\n",
       "      <td>395.767918</td>\n",
       "      <td>52.545832</td>\n",
       "      <td>0.141558</td>\n",
       "      <td>0.139564</td>\n",
       "      <td>670.723475</td>\n",
       "      <td>33.974907</td>\n",
       "    </tr>\n",
       "    <tr>\n",
       "      <th>min</th>\n",
       "      <td>0.000000</td>\n",
       "      <td>0.000000</td>\n",
       "      <td>380.000000</td>\n",
       "      <td>649.000000</td>\n",
       "      <td>1.000000</td>\n",
       "      <td>0.000000</td>\n",
       "      <td>0.000000</td>\n",
       "      <td>1.000000</td>\n",
       "      <td>4.000000</td>\n",
       "      <td>380.000000</td>\n",
       "      <td>0.000000</td>\n",
       "      <td>1900.000000</td>\n",
       "      <td>0.000000</td>\n",
       "      <td>98001.000000</td>\n",
       "      <td>47.177500</td>\n",
       "      <td>-122.490000</td>\n",
       "      <td>830.000000</td>\n",
       "      <td>8.000000</td>\n",
       "    </tr>\n",
       "    <tr>\n",
       "      <th>25%</th>\n",
       "      <td>3.000000</td>\n",
       "      <td>1.500000</td>\n",
       "      <td>1405.000000</td>\n",
       "      <td>5419.000000</td>\n",
       "      <td>1.000000</td>\n",
       "      <td>0.000000</td>\n",
       "      <td>0.000000</td>\n",
       "      <td>3.000000</td>\n",
       "      <td>7.000000</td>\n",
       "      <td>1190.000000</td>\n",
       "      <td>0.000000</td>\n",
       "      <td>1952.000000</td>\n",
       "      <td>0.000000</td>\n",
       "      <td>98032.000000</td>\n",
       "      <td>47.443000</td>\n",
       "      <td>-122.322500</td>\n",
       "      <td>1490.000000</td>\n",
       "      <td>30.980000</td>\n",
       "    </tr>\n",
       "    <tr>\n",
       "      <th>50%</th>\n",
       "      <td>3.000000</td>\n",
       "      <td>2.000000</td>\n",
       "      <td>1900.000000</td>\n",
       "      <td>8040.000000</td>\n",
       "      <td>1.000000</td>\n",
       "      <td>0.000000</td>\n",
       "      <td>0.000000</td>\n",
       "      <td>3.000000</td>\n",
       "      <td>7.000000</td>\n",
       "      <td>1540.000000</td>\n",
       "      <td>0.000000</td>\n",
       "      <td>1974.000000</td>\n",
       "      <td>0.000000</td>\n",
       "      <td>98058.000000</td>\n",
       "      <td>47.563600</td>\n",
       "      <td>-122.218000</td>\n",
       "      <td>1850.000000</td>\n",
       "      <td>43.500000</td>\n",
       "    </tr>\n",
       "    <tr>\n",
       "      <th>75%</th>\n",
       "      <td>4.000000</td>\n",
       "      <td>2.500000</td>\n",
       "      <td>2475.000000</td>\n",
       "      <td>11508.500000</td>\n",
       "      <td>2.000000</td>\n",
       "      <td>0.000000</td>\n",
       "      <td>0.000000</td>\n",
       "      <td>4.000000</td>\n",
       "      <td>8.000000</td>\n",
       "      <td>2135.000000</td>\n",
       "      <td>580.000000</td>\n",
       "      <td>1992.000000</td>\n",
       "      <td>0.000000</td>\n",
       "      <td>98116.000000</td>\n",
       "      <td>47.673400</td>\n",
       "      <td>-122.118000</td>\n",
       "      <td>2360.000000</td>\n",
       "      <td>63.446250</td>\n",
       "    </tr>\n",
       "    <tr>\n",
       "      <th>max</th>\n",
       "      <td>7.000000</td>\n",
       "      <td>5.000000</td>\n",
       "      <td>6070.000000</td>\n",
       "      <td>315374.000000</td>\n",
       "      <td>3.500000</td>\n",
       "      <td>1.000000</td>\n",
       "      <td>4.000000</td>\n",
       "      <td>5.000000</td>\n",
       "      <td>12.000000</td>\n",
       "      <td>6070.000000</td>\n",
       "      <td>2060.000000</td>\n",
       "      <td>2015.000000</td>\n",
       "      <td>2014.000000</td>\n",
       "      <td>98199.000000</td>\n",
       "      <td>47.777600</td>\n",
       "      <td>-121.709000</td>\n",
       "      <td>4760.000000</td>\n",
       "      <td>308.000000</td>\n",
       "    </tr>\n",
       "  </tbody>\n",
       "</table>\n",
       "</div>"
      ],
      "text/plain": [
       "         bedrooms   bathrooms  sqft_living       sqft_lot      floors  \\\n",
       "count  999.000000  999.000000   999.000000     999.000000  999.000000   \n",
       "mean     3.349349    2.045796  2051.397397   14707.242242    1.446947   \n",
       "std      0.852367    0.721983   888.351113   28975.077254    0.517420   \n",
       "min      0.000000    0.000000   380.000000     649.000000    1.000000   \n",
       "25%      3.000000    1.500000  1405.000000    5419.000000    1.000000   \n",
       "50%      3.000000    2.000000  1900.000000    8040.000000    1.000000   \n",
       "75%      4.000000    2.500000  2475.000000   11508.500000    2.000000   \n",
       "max      7.000000    5.000000  6070.000000  315374.000000    3.500000   \n",
       "\n",
       "       waterfront        view   condition       grade   sqft_above  \\\n",
       "count  999.000000  999.000000  999.000000  999.000000   999.000000   \n",
       "mean     0.008008    0.237237    3.464464    7.605606  1750.233233   \n",
       "std      0.089173    0.765472    0.689521    1.160734   790.466905   \n",
       "min      0.000000    0.000000    1.000000    4.000000   380.000000   \n",
       "25%      0.000000    0.000000    3.000000    7.000000  1190.000000   \n",
       "50%      0.000000    0.000000    3.000000    7.000000  1540.000000   \n",
       "75%      0.000000    0.000000    4.000000    8.000000  2135.000000   \n",
       "max      1.000000    4.000000    5.000000   12.000000  6070.000000   \n",
       "\n",
       "       sqft_basement     yr_built  yr_renovated       zipcode         lat  \\\n",
       "count     999.000000   999.000000    999.000000    999.000000  999.000000   \n",
       "mean      301.164164  1969.030030     81.830831  98074.441441   47.549720   \n",
       "std       451.023402    28.198607    395.767918     52.545832    0.141558   \n",
       "min         0.000000  1900.000000      0.000000  98001.000000   47.177500   \n",
       "25%         0.000000  1952.000000      0.000000  98032.000000   47.443000   \n",
       "50%         0.000000  1974.000000      0.000000  98058.000000   47.563600   \n",
       "75%       580.000000  1992.000000      0.000000  98116.000000   47.673400   \n",
       "max      2060.000000  2015.000000   2014.000000  98199.000000   47.777600   \n",
       "\n",
       "             long  sqft_living15       price  \n",
       "count  999.000000     999.000000  999.000000  \n",
       "mean  -122.207406    1986.813814   52.071452  \n",
       "std      0.139564     670.723475   33.974907  \n",
       "min   -122.490000     830.000000    8.000000  \n",
       "25%   -122.322500    1490.000000   30.980000  \n",
       "50%   -122.218000    1850.000000   43.500000  \n",
       "75%   -122.118000    2360.000000   63.446250  \n",
       "max   -121.709000    4760.000000  308.000000  "
      ]
     },
     "execution_count": 29,
     "metadata": {},
     "output_type": "execute_result"
    }
   ],
   "source": [
    "df.describe()"
   ]
  },
  {
   "cell_type": "code",
   "execution_count": null,
   "metadata": {},
   "outputs": [],
   "source": []
  },
  {
   "cell_type": "code",
   "execution_count": 30,
   "metadata": {},
   "outputs": [],
   "source": [
    "imp = SimpleImputer(missing_values=np.nan, strategy='mean')\n",
    "imp = imp.fit(df)\n",
    "df = imp.transform(df)"
   ]
  },
  {
   "cell_type": "code",
   "execution_count": 31,
   "metadata": {},
   "outputs": [],
   "source": [
    "X = df[:,:-1]"
   ]
  },
  {
   "cell_type": "code",
   "execution_count": 32,
   "metadata": {},
   "outputs": [
    {
     "data": {
      "text/plain": [
       "(1000, 17)"
      ]
     },
     "execution_count": 32,
     "metadata": {},
     "output_type": "execute_result"
    }
   ],
   "source": [
    "X.shape"
   ]
  },
  {
   "cell_type": "code",
   "execution_count": 33,
   "metadata": {},
   "outputs": [],
   "source": [
    "y = df[:,-1]"
   ]
  },
  {
   "cell_type": "code",
   "execution_count": 34,
   "metadata": {},
   "outputs": [
    {
     "data": {
      "text/plain": [
       "(1000,)"
      ]
     },
     "execution_count": 34,
     "metadata": {},
     "output_type": "execute_result"
    }
   ],
   "source": [
    "y.shape"
   ]
  },
  {
   "cell_type": "code",
   "execution_count": 35,
   "metadata": {},
   "outputs": [],
   "source": [
    "sc = StandardScaler()\n",
    "X = sc.fit_transform(X)"
   ]
  },
  {
   "cell_type": "code",
   "execution_count": 36,
   "metadata": {},
   "outputs": [],
   "source": [
    "X_train, X_test, y_train, y_test = train_test_split(X, y, test_size=0.33, random_state=42)"
   ]
  },
  {
   "cell_type": "code",
   "execution_count": 37,
   "metadata": {},
   "outputs": [
    {
     "data": {
      "text/plain": [
       "SVR(C=1.0, cache_size=200, coef0=0.0, degree=3, epsilon=0.1,\n",
       "    gamma='auto_deprecated', kernel='linear', max_iter=-1, shrinking=True,\n",
       "    tol=0.001, verbose=False)"
      ]
     },
     "execution_count": 37,
     "metadata": {},
     "output_type": "execute_result"
    }
   ],
   "source": [
    "clf = SVR(kernel = 'linear')\n",
    "clf.fit(X_train, y_train)"
   ]
  },
  {
   "cell_type": "code",
   "execution_count": 38,
   "metadata": {},
   "outputs": [],
   "source": [
    "y_pred = clf.predict(X_test) "
   ]
  },
  {
   "cell_type": "code",
   "execution_count": 39,
   "metadata": {},
   "outputs": [
    {
     "name": "stdout",
     "output_type": "stream",
     "text": [
      "The first 5  predictive values are \n",
      " [24.23578877 52.09680719 39.86151573 22.15951441  0.78553309]\n"
     ]
    }
   ],
   "source": [
    "print(\"The first 5  predictive values are \\n\", y_pred[:5])"
   ]
  },
  {
   "cell_type": "code",
   "execution_count": 40,
   "metadata": {},
   "outputs": [
    {
     "name": "stdout",
     "output_type": "stream",
     "text": [
      "The first 5  actual values are \n",
      " [24.23578877 52.09680719 39.86151573 22.15951441  0.78553309]\n"
     ]
    }
   ],
   "source": [
    "print(\"The first 5  actual values are \\n\", y_pred[:5])"
   ]
  },
  {
   "cell_type": "code",
   "execution_count": 41,
   "metadata": {},
   "outputs": [
    {
     "data": {
      "text/plain": [
       "9.624347647739345"
      ]
     },
     "execution_count": 41,
     "metadata": {},
     "output_type": "execute_result"
    }
   ],
   "source": [
    "mean_absolute_error(y_test, y_pred)"
   ]
  },
  {
   "cell_type": "code",
   "execution_count": 42,
   "metadata": {},
   "outputs": [
    {
     "data": {
      "text/plain": [
       "311.8937346126804"
      ]
     },
     "execution_count": 42,
     "metadata": {},
     "output_type": "execute_result"
    }
   ],
   "source": [
    "mean_squared_error(y_pred, y_test)"
   ]
  }
 ],
 "metadata": {
  "kernelspec": {
   "display_name": "Python 3",
   "language": "python",
   "name": "python3"
  },
  "language_info": {
   "codemirror_mode": {
    "name": "ipython",
    "version": 3
   },
   "file_extension": ".py",
   "mimetype": "text/x-python",
   "name": "python",
   "nbconvert_exporter": "python",
   "pygments_lexer": "ipython3",
   "version": "3.7.3"
  }
 },
 "nbformat": 4,
 "nbformat_minor": 2
}
