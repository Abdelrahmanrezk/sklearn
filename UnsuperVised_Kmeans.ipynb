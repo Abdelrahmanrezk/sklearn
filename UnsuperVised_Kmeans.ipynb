{
 "cells": [
  {
   "cell_type": "code",
   "execution_count": 1,
   "metadata": {},
   "outputs": [],
   "source": [
    "from sklearn.model_selection import train_test_split\n",
    "from sklearn.cluster import KMeans\n",
    "import numpy as np\n",
    "import matplotlib.pyplot as plt\n",
    "import pandas as pd"
   ]
  },
  {
   "cell_type": "code",
   "execution_count": 2,
   "metadata": {},
   "outputs": [],
   "source": [
    "X = np.random.rand(10000,2)\n",
    "y = np.random.rand(10000,0)"
   ]
  },
  {
   "cell_type": "code",
   "execution_count": 3,
   "metadata": {},
   "outputs": [],
   "source": [
    "X_train, X_test, y_train, y_test = train_test_split(X, y, test_size=0.33, random_state=44, shuffle =True)"
   ]
  },
  {
   "cell_type": "code",
   "execution_count": 4,
   "metadata": {},
   "outputs": [],
   "source": [
    "KMeansModel = KMeans(n_clusters=5,init='k-means++', random_state=33,algorithm= 'auto') "
   ]
  },
  {
   "cell_type": "code",
   "execution_count": 5,
   "metadata": {},
   "outputs": [
    {
     "data": {
      "text/plain": [
       "KMeans(algorithm='auto', copy_x=True, init='k-means++', max_iter=300,\n",
       "       n_clusters=5, n_init=10, n_jobs=None, precompute_distances='auto',\n",
       "       random_state=33, tol=0.0001, verbose=0)"
      ]
     },
     "execution_count": 5,
     "metadata": {},
     "output_type": "execute_result"
    }
   ],
   "source": [
    "KMeansModel.fit(X_train)"
   ]
  },
  {
   "cell_type": "code",
   "execution_count": 6,
   "metadata": {},
   "outputs": [
    {
     "name": "stdout",
     "output_type": "stream",
     "text": [
      "KMeansModel Train Score is :  -235.8820915374512\n",
      "KMeansModel Test Score is :  -116.52605673394353\n",
      "KMeansModel centers are :  [[0.79200066 0.22757809]\n",
      " [0.50340381 0.5067517 ]\n",
      " [0.7732563  0.79233427]\n",
      " [0.23595485 0.21913628]\n",
      " [0.21889286 0.77056023]]\n",
      "KMeansModel labels are :  [3 4 1 ... 4 2 3]\n",
      "KMeansModel intertia is :  235.88209153745152\n",
      "KMeansModel No. of iteration is :  24\n"
     ]
    }
   ],
   "source": [
    "print('KMeansModel Train Score is : ' , KMeansModel.score(X_train))\n",
    "print('KMeansModel Test Score is : ' , KMeansModel.score(X_test))\n",
    "print('KMeansModel centers are : ' , KMeansModel.cluster_centers_)\n",
    "print('KMeansModel labels are : ' , KMeansModel.labels_)\n",
    "print('KMeansModel intertia is : ' , KMeansModel.inertia_)\n",
    "print('KMeansModel No. of iteration is : ' , KMeansModel.n_iter_)"
   ]
  },
  {
   "cell_type": "code",
   "execution_count": 7,
   "metadata": {},
   "outputs": [
    {
     "name": "stdout",
     "output_type": "stream",
     "text": [
      "Predicted Value for KMeansModel is :  [4 3 4 3 0 1 4 0 0 1]\n"
     ]
    }
   ],
   "source": [
    "y_pred = KMeansModel.predict(X_test)\n",
    "print('Predicted Value for KMeansModel is : ' , y_pred[:10])"
   ]
  },
  {
   "cell_type": "code",
   "execution_count": 8,
   "metadata": {},
   "outputs": [
    {
     "data": {
      "text/plain": [
       "array([[0.7229216 , 0.75915595],\n",
       "       [0.85883425, 0.4457807 ],\n",
       "       [0.13561708, 0.93967215],\n",
       "       [0.84236842, 0.4421033 ],\n",
       "       [0.68627814, 0.7600452 ],\n",
       "       [0.90779437, 0.54655225],\n",
       "       [0.28087071, 0.9195817 ],\n",
       "       [0.47058436, 0.28191367],\n",
       "       [0.87636548, 0.62149902],\n",
       "       [0.86700064, 0.24982062],\n",
       "       [0.53342308, 0.55403898],\n",
       "       [0.70490412, 0.92429403],\n",
       "       [0.66504376, 0.98183678],\n",
       "       [0.73766844, 0.16990437],\n",
       "       [0.6882981 , 0.18189349],\n",
       "       [0.04854093, 0.25723693],\n",
       "       [0.18457887, 0.66721521],\n",
       "       [0.00894717, 0.86525163],\n",
       "       [0.89676338, 0.6960064 ],\n",
       "       [0.26026027, 0.92997784],\n",
       "       [0.0026442 , 0.64568627],\n",
       "       [0.50161227, 0.20740501],\n",
       "       [0.24572795, 0.14727236],\n",
       "       [0.81979882, 0.38261605],\n",
       "       [0.95473698, 0.5620439 ],\n",
       "       [0.90598525, 0.55860103],\n",
       "       [0.97243158, 0.68102902],\n",
       "       [0.86348822, 0.5099853 ],\n",
       "       [0.36749378, 0.46270201],\n",
       "       [0.6682437 , 0.25369791],\n",
       "       [0.3217142 , 0.22784387],\n",
       "       [0.84100616, 0.22836216],\n",
       "       [0.25163676, 0.87178724],\n",
       "       [0.76946087, 0.5473014 ],\n",
       "       [0.9459403 , 0.36682459],\n",
       "       [0.50868155, 0.8935171 ],\n",
       "       [0.09789249, 0.48828226],\n",
       "       [0.34181188, 0.53443625],\n",
       "       [0.95336461, 0.94107666],\n",
       "       [0.12129853, 0.41006572],\n",
       "       [0.92305048, 0.57735235],\n",
       "       [0.1450593 , 0.8886968 ],\n",
       "       [0.84580864, 0.62752366],\n",
       "       [0.44694675, 0.20297025],\n",
       "       [0.82827313, 0.73812877],\n",
       "       [0.74668882, 0.3170721 ],\n",
       "       [0.96860268, 0.00399864],\n",
       "       [0.49815389, 0.25659167],\n",
       "       [0.42897459, 0.26552542],\n",
       "       [0.79277052, 0.71157097],\n",
       "       [0.06515704, 0.37598577],\n",
       "       [0.70811948, 0.9127031 ],\n",
       "       [0.65424505, 0.93008013],\n",
       "       [0.09935524, 0.44694817],\n",
       "       [0.8941547 , 0.19602897],\n",
       "       [0.80875222, 0.41181156],\n",
       "       [0.64769649, 0.26046351],\n",
       "       [0.62751347, 0.14336355],\n",
       "       [0.25681932, 0.15695615],\n",
       "       [0.56112943, 0.7296676 ],\n",
       "       [0.99077759, 0.67321288],\n",
       "       [0.06947059, 0.03761059],\n",
       "       [0.3221541 , 0.88130527],\n",
       "       [0.72560042, 0.53899675],\n",
       "       [0.73579613, 0.59069957],\n",
       "       [0.40333047, 0.07978303],\n",
       "       [0.97923212, 0.08447538],\n",
       "       [0.37881793, 0.98380374],\n",
       "       [0.21375341, 0.95436749],\n",
       "       [0.54751291, 0.43542273],\n",
       "       [0.03175238, 0.89869051],\n",
       "       [0.41343963, 0.20562924],\n",
       "       [0.95283458, 0.65118642],\n",
       "       [0.19898742, 0.90041651],\n",
       "       [0.05718579, 0.33407583],\n",
       "       [0.73897477, 0.55953432],\n",
       "       [0.63712099, 0.57306915],\n",
       "       [0.17765279, 0.45883261],\n",
       "       [0.04215993, 0.42783311],\n",
       "       [0.83746211, 0.51918986],\n",
       "       [0.06374133, 0.35271735],\n",
       "       [0.84995902, 0.87062017],\n",
       "       [0.2736189 , 0.35972377],\n",
       "       [0.28510859, 0.52034935],\n",
       "       [0.14288404, 0.40607714],\n",
       "       [0.0966009 , 0.05998898],\n",
       "       [0.77141288, 0.31448164],\n",
       "       [0.94543588, 0.66880745],\n",
       "       [0.74787716, 0.07443254],\n",
       "       [0.52573045, 0.84243745],\n",
       "       [0.93509033, 0.63461433],\n",
       "       [0.88501006, 0.20980924],\n",
       "       [0.72466942, 0.81214717],\n",
       "       [0.6079148 , 0.83178588],\n",
       "       [0.40558226, 0.05327621],\n",
       "       [0.81364015, 0.88461062],\n",
       "       [0.63593381, 0.51630697],\n",
       "       [0.12779135, 0.7720181 ],\n",
       "       [0.90839675, 0.67063988],\n",
       "       [0.27685709, 0.2494987 ],\n",
       "       [0.7472601 , 0.64865917],\n",
       "       [0.89402139, 0.34315928],\n",
       "       [0.38936992, 0.28018689],\n",
       "       [0.13004557, 0.92376815],\n",
       "       [0.4033473 , 0.98025207],\n",
       "       [0.3990729 , 0.94114722],\n",
       "       [0.30012498, 0.44792493],\n",
       "       [0.64880381, 0.27419771],\n",
       "       [0.01253758, 0.14029892],\n",
       "       [0.66682368, 0.12465454],\n",
       "       [0.86722407, 0.30739411],\n",
       "       [0.61435859, 0.35107177],\n",
       "       [0.23517091, 0.69364137],\n",
       "       [0.42263242, 0.32005086],\n",
       "       [0.69141976, 0.87226627],\n",
       "       [0.63059885, 0.40751276],\n",
       "       [0.43856533, 0.02410414],\n",
       "       [0.49307208, 0.71200676],\n",
       "       [0.80350627, 0.79152868],\n",
       "       [0.86359725, 0.16407465],\n",
       "       [0.48298456, 0.55185033],\n",
       "       [0.69677619, 0.53983791],\n",
       "       [0.93005888, 0.07555973],\n",
       "       [0.19498998, 0.65958109],\n",
       "       [0.31901084, 0.19991265],\n",
       "       [0.5911659 , 0.77624603],\n",
       "       [0.28833159, 0.33240764],\n",
       "       [0.48474234, 0.52416405],\n",
       "       [0.55708748, 0.21978384],\n",
       "       [0.69097277, 0.11274235],\n",
       "       [0.95878436, 0.66080297],\n",
       "       [0.05994665, 0.16217482],\n",
       "       [0.23375641, 0.56086698],\n",
       "       [0.96286898, 0.55586597],\n",
       "       [0.11167743, 0.00173841],\n",
       "       [0.19553123, 0.84471762],\n",
       "       [0.85775461, 0.65184327],\n",
       "       [0.83613181, 0.22803715],\n",
       "       [0.76442022, 0.88842048],\n",
       "       [0.95691564, 0.67289062],\n",
       "       [0.95449829, 0.33169589],\n",
       "       [0.2623168 , 0.73220605],\n",
       "       [0.33870733, 0.32449668],\n",
       "       [0.09409849, 0.78070042],\n",
       "       [0.91846243, 0.32439963],\n",
       "       [0.58371961, 0.11598642],\n",
       "       [0.81136527, 0.95740459],\n",
       "       [0.08015187, 0.71762604],\n",
       "       [0.15667866, 0.60617536],\n",
       "       [0.38023362, 0.57664146],\n",
       "       [0.23579216, 0.43224145],\n",
       "       [0.16046502, 0.1673148 ],\n",
       "       [0.99646679, 0.26710479],\n",
       "       [0.81027962, 0.93275685],\n",
       "       [0.32628309, 0.09520393],\n",
       "       [0.55816145, 0.21095979],\n",
       "       [0.7093909 , 0.9542792 ],\n",
       "       [0.76137929, 0.00405751],\n",
       "       [0.30553831, 0.54313367],\n",
       "       [0.19123928, 0.09567697],\n",
       "       [0.35070825, 0.90480085],\n",
       "       [0.36244976, 0.34061722],\n",
       "       [0.56260404, 0.54634704],\n",
       "       [0.18015402, 0.54995131],\n",
       "       [0.21158097, 0.21511824],\n",
       "       [0.1370244 , 0.08330362],\n",
       "       [0.37939564, 0.75248971],\n",
       "       [0.50993001, 0.42087769],\n",
       "       [0.8766693 , 0.39345123],\n",
       "       [0.46754928, 0.5997205 ],\n",
       "       [0.82242905, 0.66939267],\n",
       "       [0.42032949, 0.15175443],\n",
       "       [0.48103554, 0.77927403],\n",
       "       [0.95319232, 0.46353575],\n",
       "       [0.69320089, 0.7075076 ],\n",
       "       [0.76068877, 0.22712313],\n",
       "       [0.39111555, 0.62890845],\n",
       "       [0.76976366, 0.48310006],\n",
       "       [0.89027518, 0.50459661],\n",
       "       [0.88138758, 0.06639295],\n",
       "       [0.63225295, 0.90070564],\n",
       "       [0.11863976, 0.90953338],\n",
       "       [0.239533  , 0.20762053],\n",
       "       [0.48212282, 0.75887519],\n",
       "       [0.53771103, 0.72293225],\n",
       "       [0.51930217, 0.19463073],\n",
       "       [0.09602259, 0.63715507],\n",
       "       [0.00389511, 0.20103201],\n",
       "       [0.28111531, 0.077322  ],\n",
       "       [0.45351394, 0.87216796],\n",
       "       [0.90102259, 0.57736811],\n",
       "       [0.82396922, 0.61686216],\n",
       "       [0.24778939, 0.73520746],\n",
       "       [0.86165703, 0.41075219],\n",
       "       [0.37707276, 0.18453429],\n",
       "       [0.91015195, 0.00117233],\n",
       "       [0.09884467, 0.32179319],\n",
       "       [0.14440837, 0.20234917],\n",
       "       [0.41659204, 0.18488217],\n",
       "       [0.49378918, 0.56318986]])"
      ]
     },
     "execution_count": 8,
     "metadata": {},
     "output_type": "execute_result"
    }
   ],
   "source": [
    "trainingdata = np.random.rand(200,2)\n",
    "X = np.array(trainingdata)\n",
    "trainingdata"
   ]
  },
  {
   "cell_type": "code",
   "execution_count": 9,
   "metadata": {},
   "outputs": [
    {
     "data": {
      "text/plain": [
       "KMeans(algorithm='auto', copy_x=True, init='k-means++', max_iter=300,\n",
       "       n_clusters=10, n_init=10, n_jobs=None, precompute_distances='auto',\n",
       "       random_state=0, tol=0.0001, verbose=0)"
      ]
     },
     "execution_count": 9,
     "metadata": {},
     "output_type": "execute_result"
    }
   ],
   "source": [
    "kmeans = KMeans(n_clusters=10, random_state=0)\n",
    "kmeans.fit(X)"
   ]
  },
  {
   "cell_type": "code",
   "execution_count": 10,
   "metadata": {},
   "outputs": [
    {
     "data": {
      "text/plain": [
       "array([8, 6, 4, 6, 8, 2, 4, 0, 2, 3, 7, 8, 8, 3, 3, 5, 4, 4, 2, 4, 4, 0,\n",
       "       5, 6, 2, 2, 2, 2, 7, 3, 0, 3, 4, 2, 6, 1, 9, 7, 8, 9, 2, 4, 2, 0,\n",
       "       2, 6, 3, 0, 0, 2, 9, 8, 8, 9, 3, 6, 3, 3, 5, 1, 2, 5, 1, 2, 2, 0,\n",
       "       3, 1, 4, 7, 4, 0, 2, 4, 9, 2, 7, 9, 9, 2, 9, 8, 9, 9, 9, 5, 6, 2,\n",
       "       3, 1, 2, 3, 8, 8, 0, 8, 7, 4, 2, 0, 2, 6, 0, 4, 1, 1, 9, 3, 5, 3,\n",
       "       6, 7, 4, 0, 8, 7, 0, 1, 8, 3, 7, 7, 3, 4, 0, 1, 9, 7, 0, 3, 2, 5,\n",
       "       9, 2, 5, 4, 2, 3, 8, 2, 6, 4, 0, 4, 6, 0, 8, 4, 9, 7, 9, 5, 6, 8,\n",
       "       0, 0, 8, 3, 9, 5, 1, 0, 7, 9, 5, 5, 1, 7, 6, 7, 2, 0, 1, 6, 8, 3,\n",
       "       7, 6, 2, 3, 8, 4, 5, 1, 1, 0, 4, 5, 5, 1, 2, 2, 4, 6, 0, 3, 9, 5,\n",
       "       0, 7], dtype=int32)"
      ]
     },
     "execution_count": 10,
     "metadata": {},
     "output_type": "execute_result"
    }
   ],
   "source": [
    "kmeans.labels_ # like the number of n_clusters but from 0 to 9"
   ]
  },
  {
   "cell_type": "code",
   "execution_count": 11,
   "metadata": {},
   "outputs": [
    {
     "data": {
      "text/plain": [
       "2.7933917849868655"
      ]
     },
     "execution_count": 11,
     "metadata": {},
     "output_type": "execute_result"
    }
   ],
   "source": [
    "kmeans.inertia_ # like the cost function the norm between centriod point and the points"
   ]
  },
  {
   "cell_type": "code",
   "execution_count": 12,
   "metadata": {},
   "outputs": [
    {
     "data": {
      "text/plain": [
       "array([[0.55314914, 0.53734927],\n",
       "       [0.05945023, 0.65668553],\n",
       "       [0.04591444, 0.88474463],\n",
       "       [0.39644523, 0.24944903],\n",
       "       [0.25928455, 0.88499879],\n",
       "       [0.00208418, 0.6064061 ],\n",
       "       [0.8941478 , 0.17481769],\n",
       "       [0.09628508, 0.99016596],\n",
       "       [0.26416427, 0.01892137],\n",
       "       [0.1547666 , 0.38687343],\n",
       "       [0.08751275, 0.01823864],\n",
       "       [0.3624756 , 0.51404569],\n",
       "       [0.03374319, 0.72404802],\n",
       "       [0.62757803, 0.39907646],\n",
       "       [0.64826323, 0.23888815],\n",
       "       [0.59222414, 0.53340162],\n",
       "       [0.30708273, 0.32021756],\n",
       "       [0.87171573, 0.9306558 ],\n",
       "       [0.94959933, 0.51346129],\n",
       "       [0.99612562, 0.6864702 ]])"
      ]
     },
     "execution_count": 12,
     "metadata": {},
     "output_type": "execute_result"
    }
   ],
   "source": [
    "testdata = np.random.rand(20,2)\n",
    "testdata"
   ]
  },
  {
   "cell_type": "code",
   "execution_count": 13,
   "metadata": {},
   "outputs": [
    {
     "data": {
      "text/plain": [
       "array([[0.4248533 , 0.20323088],\n",
       "       [0.45784392, 0.83539488],\n",
       "       [0.87428591, 0.61475857],\n",
       "       [0.79555907, 0.15155738],\n",
       "       [0.15893889, 0.8130681 ],\n",
       "       [0.14191143, 0.13831341],\n",
       "       [0.86785944, 0.37533018],\n",
       "       [0.51635169, 0.51682929],\n",
       "       [0.73720506, 0.87438026],\n",
       "       [0.16975134, 0.44080977]])"
      ]
     },
     "execution_count": 13,
     "metadata": {},
     "output_type": "execute_result"
    }
   ],
   "source": [
    "kmeans.predict(np.array(testdata))\n",
    "centers = kmeans.cluster_centers_\n",
    "centers # the point place"
   ]
  },
  {
   "cell_type": "code",
   "execution_count": 14,
   "metadata": {},
   "outputs": [
    {
     "data": {
      "text/plain": [
       "<matplotlib.collections.PathCollection at 0x7efcad02f828>"
      ]
     },
     "execution_count": 14,
     "metadata": {},
     "output_type": "execute_result"
    },
    {
     "data": {
      "image/png": "[encoded data removed]",
      "text/plain": [
       "<Figure size 432x288 with 1 Axes>"
      ]
     },
     "metadata": {
      "needs_background": "light"
     },
     "output_type": "display_data"
    }
   ],
   "source": [
    "for j in range(len(centers)):\n",
    "     plt.scatter(centers[j,0],centers[j,1] ,c ='r' , s = 100)\n",
    "plt.scatter(trainingdata[:,0],trainingdata[:,1] ,c ='g' , s = 8)\n",
    "plt.scatter(testdata[:,0],testdata[:,1] ,c ='b' , s = 25)"
   ]
  },
  {
   "cell_type": "code",
   "execution_count": 15,
   "metadata": {},
   "outputs": [
    {
     "data": {
      "text/plain": [
       "(500, 8)"
      ]
     },
     "execution_count": 15,
     "metadata": {},
     "output_type": "execute_result"
    }
   ],
   "source": [
    "dataset = pd.read_csv('data.csv')\n",
    "X = dataset.iloc[:500,:].values\n",
    "X.shape"
   ]
  },
  {
   "cell_type": "code",
   "execution_count": 16,
   "metadata": {},
   "outputs": [],
   "source": [
    "ilist = []\n",
    "n = 11\n",
    "for i in range(1,n):\n",
    "    kmeans = KMeans(n_clusters = i)\n",
    "    kmeans.fit(X)\n",
    "    ilist.append(kmeans.inertia_)"
   ]
  },
  {
   "cell_type": "code",
   "execution_count": 17,
   "metadata": {},
   "outputs": [
    {
     "data": {
      "image/png": "[encoded data removed]",
      "text/plain": [
       "<Figure size 432x288 with 1 Axes>"
      ]
     },
     "metadata": {
      "needs_background": "light"
     },
     "output_type": "display_data"
    }
   ],
   "source": [
    "plt.plot(range(1,n), ilist) # elbow method\n",
    "plt.title('Elbow')\n",
    "plt.xlabel('clusters')\n",
    "plt.ylabel('inertias')\n",
    "plt.show()"
   ]
  },
  {
   "cell_type": "code",
   "execution_count": 18,
   "metadata": {},
   "outputs": [],
   "source": [
    "kmeans = KMeans(n_clusters = 6, init = 'k-means++')\n",
    "y_kmeans = kmeans.fit_predict(X)"
   ]
  },
  {
   "cell_type": "code",
   "execution_count": 19,
   "metadata": {},
   "outputs": [
    {
     "name": "stderr",
     "output_type": "stream",
     "text": [
      "No handles with labels found to put in legend.\n"
     ]
    },
    {
     "data": {
      "image/png": "[encoded data removed]",
      "text/plain": [
       "<Figure size 432x288 with 1 Axes>"
      ]
     },
     "metadata": {
      "needs_background": "light"
     },
     "output_type": "display_data"
    }
   ],
   "source": [
    "plt.scatter(X[y_kmeans == 0, 0], X[y_kmeans == 0, 1], s = 10, c = 'r')\n",
    "plt.scatter(X[y_kmeans == 1, 0], X[y_kmeans == 1, 1], s = 10, c = 'b')\n",
    "plt.scatter(X[y_kmeans == 2, 0], X[y_kmeans == 2, 1], s = 10, c = 'g')\n",
    "plt.scatter(X[y_kmeans == 3, 0], X[y_kmeans == 3, 1], s = 10, c = 'c')\n",
    "plt.scatter(X[y_kmeans == 4, 0], X[y_kmeans == 4, 1], s = 10, c = 'm')\n",
    "plt.scatter(kmeans.cluster_centers_[:, 0], kmeans.cluster_centers_[:, 1], s = 300, c = 'y')\n",
    "plt.title('Clusters of customers')\n",
    "plt.xlabel('Annual Income (k$)')\n",
    "plt.ylabel('Spending Score (1-100)')\n",
    "plt.legend()\n",
    "plt.show()"
   ]
  }
 ],
 "metadata": {
  "kernelspec": {
   "display_name": "Python 3",
   "language": "python",
   "name": "python3"
  },
  "language_info": {
   "codemirror_mode": {
    "name": "ipython",
    "version": 3
   },
   "file_extension": ".py",
   "mimetype": "text/x-python",
   "name": "python",
   "nbconvert_exporter": "python",
   "pygments_lexer": "ipython3",
   "version": "3.7.3"
  }
 },
 "nbformat": 4,
 "nbformat_minor": 2
}
